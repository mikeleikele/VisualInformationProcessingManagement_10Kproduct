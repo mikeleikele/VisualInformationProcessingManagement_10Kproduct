{
  "nbformat": 4,
  "nbformat_minor": 0,
  "metadata": {
    "colab": {
      "name": "Visual Information processing and Management - 10k Product .ipynb",
      "provenance": []
    },
    "kernelspec": {
      "name": "python3",
      "display_name": "Python 3"
    },
    "language_info": {
      "name": "python"
    }
  },
  "cells": [
    {
      "cell_type": "markdown",
      "metadata": {
        "id": "4bi-mdK7-VYw"
      },
      "source": [
        "#Visual Information processing and Management"
      ]
    },
    {
      "cell_type": "markdown",
      "metadata": {
        "id": "z0gYQMbB-VAk"
      },
      "source": [
        "##Connect to google drive and github, vscode"
      ]
    },
    {
      "cell_type": "code",
      "metadata": {
        "colab": {
          "base_uri": "https://localhost:8080/"
        },
        "id": "c21akO3--Qpb",
        "outputId": "aabcdb07-28c6-4d36-8903-b36bcc993410"
      },
      "source": [
        "from google.colab import drive\n",
        "drive.mount('/content/drive')"
      ],
      "execution_count": null,
      "outputs": [
        {
          "output_type": "stream",
          "text": [
            "Mounted at /content/drive\n"
          ],
          "name": "stdout"
        }
      ]
    }
  ]
}